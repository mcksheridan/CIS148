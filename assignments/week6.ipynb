{
 "cells": [
  {
   "cell_type": "markdown",
   "id": "ed4c71fd",
   "metadata": {
    "tags": []
   },
   "source": [
    "## Student Name: Sheridan McKisick\n",
    "### Class: CIS148 Introduction to Programming with JAVA\n",
    "### Assignment: Week 6\n",
    "### Date Handed In: February 24, 2024"
   ]
  },
  {
   "cell_type": "markdown",
   "id": "5d400225",
   "metadata": {},
   "source": [
    "# Place your Lab in Cells After this header.\n"
   ]
  },
  {
   "cell_type": "code",
   "execution_count": null,
   "id": "03c80ef9",
   "metadata": {},
   "outputs": [],
   "source": [
    "import java.util.ArrayList;\n",
    "\n",
    "/*\n",
    "    Program Name: Week06\n",
    "    Programmer: Sheridan McKisick\n",
    "    Date: February 24, 2024\n",
    "    Synposis: For a given number, find (and sum) the natural numbers below it that are multiples of 3 or 5.\n",
    "*/\n",
    "\n",
    "public class Multiples {\n",
    "    int limit;\n",
    "    \n",
    "    public Multiples(int limit) {\n",
    "        this.limit = limit;\n",
    "    }\n",
    "    \n",
    "    public ArrayList getMultiples() {\n",
    "        ArrayList<Integer> multiples = new ArrayList<>();\n",
    "        int i = 3;\n",
    "        while (i < limit) {\n",
    "            if ((i % 3 == 0) || (i % 5 == 0)) {\n",
    "                multiples.add(i);\n",
    "            }\n",
    "            i += 1;\n",
    "        }\n",
    "        return multiples;\n",
    "    }\n",
    "    \n",
    "    public int getSum(ArrayList<Integer> numberList) {\n",
    "        int sum = 0;\n",
    "        for (int number: numberList) {\n",
    "            sum += number;\n",
    "        }\n",
    "        return sum;\n",
    "    }\n",
    "    \n",
    "    public void printSum() {\n",
    "        System.out.println(\"The sum of all natural numbers less than \" + limit +\n",
    "                \" that are multiples of three and/or five is:\\n\" +\n",
    "                getSum(getMultiples()));\n",
    "    }\n",
    "}\n"
   ]
  },
  {
   "cell_type": "code",
   "execution_count": null,
   "id": "a649d059",
   "metadata": {},
   "outputs": [],
   "source": [
    "/*\n",
    "    Program Name: Week06\n",
    "    Programmer: Sheridan McKisick\n",
    "    Date: February 24, 2024\n",
    "    Synposis: Week six's assignment\n",
    "*/\n",
    "\n",
    "public class Week06 {\n",
    "\n",
    "    public static void runWeek(boolean run) {\n",
    "        if (run) {\n",
    "            Multiples multiplesOfTen = new Multiples(10);\n",
    "            multiplesOfTen.printSum();\n",
    "            Multiples multiplesOfOneThousand = new Multiples(1000);\n",
    "            multiplesOfOneThousand.printSum();\n",
    "        } else {\n",
    "            System.out.println(\"Skipping week six...\");\n",
    "        }\n",
    "    }\n",
    "}"
   ]
  },
  {
   "cell_type": "code",
   "execution_count": null,
   "id": "b469790e",
   "metadata": {},
   "outputs": [],
   "source": [
    "/*\n",
    "    Program Name: Driver Class\n",
    "    Programmer: Sheridan McKisick\n",
    "    Last Updated: February 24, 2024\n",
    "    Synposis: Execute classes from different assignment weeks\n",
    "*/\n",
    "\n",
    "public class Driver_Class {\n",
    "    public static void main(String[] args) {\n",
    "        System.out.println(\"Running Driver_Class...\");\n",
    "        Week01.runWeek(false);\n",
    "        Week02.runWeek(false);\n",
    "        Week03.runWeek(false);\n",
    "        Week04.runWeek(false);\n",
    "        Week05.runWeek(false);\n",
    "        Week06.runWeek(true);\n",
    "    }\n",
    "}"
   ]
  },
  {
   "cell_type": "markdown",
   "id": "051ec859",
   "metadata": {},
   "source": [
    "# Place your Video Link in the Cell After this header.\n"
   ]
  },
  {
   "cell_type": "markdown",
   "id": "0e8e6c46",
   "metadata": {},
   "source": [
    "https://youtu.be/MStdG-bqXjg"
   ]
  },
  {
   "cell_type": "markdown",
   "id": "c53a180a",
   "metadata": {},
   "source": [
    "# Place your Wiki in the Cell After this header."
   ]
  },
  {
   "cell_type": "markdown",
   "id": "48a694c8",
   "metadata": {},
   "source": [
    "The notes from this week point out that not all classes in Java need to be blueprints. (One example being the module classes we made previously.) I am so confused about what \"clean code\" looks like in Java (though you pointed out that each organization is going to have a different interpreation of what best practices are in the first place). Baeldung had a page about clean code, but I've used resources built off of Robert C. Martin's *Clean Code* in the past, so I figured I'd look at the [clean-code-java repo](https://github.com/leonardolemie/clean-code-java) on GitHub. Unfortunately, the repo wasn't complete and randomly switched to JavaScript in the middle--so back to [Baeldung](https://www.baeldung.com/java-clean-code) I went. It emphasized general principles like KISS and the single responsibility principle. One thing that piqued my interest here was the \"Dependency Inversion Principle\" from SOLID. I had no idea what \"classes should only depend on abstractions and not on their concrete implementations\" meant, so I had to work on fixing that. I asked ChatGPT to explain it to me like I was five, and it still didn't completely make sense. Then, I tried asking it to give me an example of code that broke the Dependency Inversion Principle, and that was the ticket to understanding the concept.\n",
    "\n",
    "Learning about the Dependency Inversion Principle turned out to be more of a side quest than anything for this week. When it came time to do the assignment, I wanted to see if I could actually leverage Java's class-based syntax and break away from both my functional programming instinct and the more procedural way I've done previous assignments. I came up with a working solution pretty quickly with a method class but didn't feel like I was actually taking advantage of Java.\n",
    "\n",
    "```\n",
    "    private static int sumMultiples (int limit) {\n",
    "        ArrayList<Integer> multiples = new ArrayList<>();\n",
    "        int i = 3;\n",
    "        while (i < limit) {\n",
    "            if ((i % 3 == 0) || (i % 5 == 0)) {\n",
    "                multiples.add(i);\n",
    "            }\n",
    "            i += 1;\n",
    "        }\n",
    "        int sum = 0;\n",
    "        for (int multiple: multiples) {\n",
    "            sum += multiple;\n",
    "        }\n",
    "        return sum;\n",
    "    }\n",
    "```\n",
    "\n",
    "I decided to refactor this by creating a new \"Multiples\" class instead. (This is ultimately the solution I submitted above, but I'm still unsure if the name actually captures what the class is doing.) I think one interesting part of creating a new Multiples class was creating a method to sum numbers from an array list. I stored the multiples of three or five in an array list, so that's the data type I wanted to work with when I tallied everything up. I thought about directly accessing that `getMultiples()` method inside of `getSum()` method, but I wanted it to be more agnostic. I don't know if that actually made sense or was in any way necessary, but it was fun to think about.\n",
    "\n",
    "All in all, I'm walking away from this assignment feeling pleased. Even though the code I submitted wound up a bit longer than what I have above in this wiki block, it's so much more readable and less procedural after refactoring.\n",
    "\n",
    "(One final comment about the assignment: it was nice! It reminded me of fizzbuzz.)"
   ]
  },
  {
   "cell_type": "markdown",
   "id": "fcf4567a",
   "metadata": {},
   "source": [
    "# Place your Questions in the Cell After this header. \n"
   ]
  },
  {
   "cell_type": "markdown",
   "id": "7954d49a",
   "metadata": {},
   "source": [
    "**Did you take the time to look and play with the examples before you attempted the assignment, not at all, or after you found yourself needing help with the assignment?:** My learning style is try to come up with something functional, then refer to the examples, and finally come back and refactor where possible. I think I retain information better that way."
   ]
  }
 ],
 "metadata": {
  "kernelspec": {
   "display_name": "Python 3 (ipykernel)",
   "language": "python",
   "name": "python3"
  },
  "language_info": {
   "codemirror_mode": {
    "name": "ipython",
    "version": 3
   },
   "file_extension": ".py",
   "mimetype": "text/x-python",
   "name": "python",
   "nbconvert_exporter": "python",
   "pygments_lexer": "ipython3",
   "version": "3.11.5"
  }
 },
 "nbformat": 4,
 "nbformat_minor": 5
}
