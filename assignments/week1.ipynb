{
 "cells": [
  {
   "cell_type": "markdown",
   "id": "ed4c71fd",
   "metadata": {
    "tags": []
   },
   "source": [
    "## Student Name: Sheridan McKisick\n",
    "### Class: CIS148 Introduction to Programming with JAVA\n",
    "### Assignment: Assignment One\n",
    "### Date Handed In: 1/16/24\n"
   ]
  },
  {
   "cell_type": "markdown",
   "id": "5d400225",
   "metadata": {},
   "source": [
    "# Place your Lab in Cells After this header.\n"
   ]
  },
  {
   "cell_type": "code",
   "execution_count": null,
   "id": "03c80ef9",
   "metadata": {},
   "outputs": [],
   "source": [
    "import java.util.Scanner;\n",
    "\n",
    "public class DivideNumbers {\n",
    "\n",
    "    public static void main(String[] args) {\n",
    "        Scanner input = new Scanner(System.in);\n",
    "        System.out.println(\"Enter a number to use as a dividend: \");\n",
    "        int dividend = input.nextInt();\n",
    "        System.out.println(\"Enter a number to use as a divisor: \");\n",
    "        int divisor = input.nextInt();\n",
    "        int quotient = dividend / divisor;\n",
    "        float quotientFloat = (float) dividend / divisor;\n",
    "        int remainder = dividend % divisor;\n",
    "        String mathProblem = dividend + \" divided by \" + divisor + \" equals \";\n",
    "        System.out.println(mathProblem + quotient + \" with a remainder of \" + remainder);\n",
    "        System.out.println(mathProblem + quotientFloat);\n",
    "        System.out.printf(mathProblem + \" %.3f\", quotientFloat);\n",
    "    }\n",
    "}\n"
   ]
  },
  {
   "cell_type": "code",
   "execution_count": null,
   "id": "a649d059",
   "metadata": {},
   "outputs": [],
   "source": [
    "import java.util.ArrayList;\n",
    "import java.util.Scanner;\n",
    "\n",
    "public class CheckPrimeNumber03 {\n",
    "\n",
    "    public static void main(String[] args) {\n",
    "        Scanner input = new Scanner(System.in);\n",
    "        int number;\n",
    "        do {\n",
    "            System.out.println(\"Enter a whole number greater than zero.\");\n",
    "            number = input.nextInt();\n",
    "        } while (number < 1);\n",
    "        ArrayList<Integer> divisors = new ArrayList<>();\n",
    "        for (int i = 2; i < number; ++i) {\n",
    "            if (i != number && number % i == 0) {\n",
    "                divisors.add(i);\n",
    "            }\n",
    "        }\n",
    "        if (divisors.isEmpty()) {\n",
    "            System.out.println(\"The number \" + number + \" is prime.\");\n",
    "        } else {\n",
    "            System.out.println(\"The number \" + number + \" is divisible by:\");\n",
    "            System.out.println(\"・ 1\");\n",
    "            for (Integer divisor : divisors) {\n",
    "                System.out.println(\"・ \" + divisor);\n",
    "            }\n",
    "            System.out.println(\"・ \" + number);\n",
    "        }\n",
    "    }\n",
    "}"
   ]
  },
  {
   "cell_type": "markdown",
   "id": "051ec859",
   "metadata": {},
   "source": [
    "# Place your Video Link in the Cell After this header.\n"
   ]
  },
  {
   "cell_type": "markdown",
   "id": "0e8e6c46",
   "metadata": {},
   "source": [
    "https://www.youtube.com/watch?v=CS1oNckmDh8"
   ]
  },
  {
   "cell_type": "markdown",
   "id": "c53a180a",
   "metadata": {},
   "source": [
    "# Place your Wiki in the Cell After this header."
   ]
  },
  {
   "cell_type": "markdown",
   "id": "48a694c8",
   "metadata": {},
   "source": [
    "ChatGPT came in handy when it came to changing the default directory in NetBeans. I'm no stranger to Stack Overflow, and that led me to the `projectui.properties` file, but I was rooting around for it in a completely different directory than where it was actually located. ChatGPT helped me figure out what directory I needed to be in. It also came in handy when I got confused about what bytecode was. It turns out, you can ask ChatGPT to explain something to you like you're five, and you've got a much more entertaining (not to mention more digestible) example on your hands than what you see in standard documentation.\n",
    "\n",
    "One thing that sets Java apart from the other languages I've used is how it uses types. I've had to use a separate type for number values larger than [\"9007199254740992\"](https://developer.mozilla.org/en-US/docs/Web/JavaScript/Reference/Global_Objects/Number/MAX_SAFE_INTEGER) before, but I've always lumped other numbers together as the same type. I made a simple function for dividing a dividend by a divisor. When I entered 10 as the dividend and 3 as the divisor, `dividend / divisor` produced 3, not 3.3333... or something similar, which surprised me. Initially, I tried to solve this by storing the quotient as a float, which gave me 3.0 instead of 3. To receive a 3.333... value, I had to explicitly cast the quotient as a float; storing the quotient as `float quotient` wasn't sufficient.\n",
    "\n",
    "I wanted to try creating a class that would allow a user to enter a number and find out if that number was prime. It seemed like a good way to smash together user input, conditional statements, and loops all at once. My first iteration was simple. I asked the user to enter a number greater than zero but didn't confirm that their value met this condition. I wound up using a `do while` loop to fix this, which I've never used before. Using a `do while` loop circumvented an issue where my `number` user input variable wasn't initialized before it was called when I tried implenting the same functionality with a `while` loop.\n",
    "\n",
    "Once I'd constrainted user input, I thought it would be really cool to output all of the divisors for non-prime numbers. This made me confront what might become a big issue for me moving forward: the words I use to refer to things in JavaScript, my primary language, mean totally different things in Java. My instinct (with my JavaSript brain) was to initialize an array, push all values to it where `userInputNumber % value == 0`, and then loop through that at the end. My \"today I learned\" is that you have to declare the size of an array in Java before you can use it. Thankfully, today I also learned that Java has an ArrayList class, which I could manipulate similarly to arrays in JavaScript. One cool method that ArrayList has is `.isEmpty()`, which was much simpler than having to ask if the length of an array is greater than zero."
   ]
  },
  {
   "cell_type": "markdown",
   "id": "fcf4567a",
   "metadata": {},
   "source": [
    "# Place your Questions in the Cell After this header. \n"
   ]
  },
  {
   "cell_type": "markdown",
   "id": "7954d49a",
   "metadata": {},
   "source": [
    "**What does \"Platform Independence\" mean?**\n",
    "Java should be able to run on any hardware. Java compilers accomplish this by either compiling Java code to bytecode that runs on a virtual machine and in turn executes on the target hardware in native code; or using just-in-time compilation to compile Java directly into native code without compiling to bytecode first."
   ]
  },
  {
   "cell_type": "markdown",
   "id": "b16bc8e2",
   "metadata": {},
   "source": [
    "**Where would I find Jupyter Notebooks?**\n",
    "If you download Anaconda, you can launch Jupyter Notebooks from the Anaconda Naivgator screen."
   ]
  },
  {
   "cell_type": "markdown",
   "id": "f80c19f2",
   "metadata": {},
   "source": [
    "**How do you change the default directory in netBeans?**\n",
    "You'll need to edit the `projectui.properties` file. It's a hidden file, so to find it on MacOS, you'll start by opening your NetBeans user directory. You can find this by launching NetBeans, opening the \"NetBeans\" menu in the toolbar, and then selecting \"About NetBeans.\" Copy paste the user directory, then hop over to the Terminal application and enter `cd path/that/you/copied/`. From there, enter `cd config/Preferences/org/netbeans/modules`. If you enter `ls`, you'll see the `projectui.properties` file. I have an IDE configured to run with a `code` command, so at this point, I entered `code projectui.properties` to open up the file, but you can copy the path to the file with `pwd | pbcopy` and open it in your preferred text editor using that path. At the end of the `projectui.properties` file, you can add in a new line with `projectsFolder=/your/desired/path` or otherwise update the `projectsFolder` key with your preferred value if it already exists."
   ]
  },
  {
   "cell_type": "markdown",
   "id": "8295ba4e",
   "metadata": {},
   "source": [
    "**What screen recorder did you select to use and why?**\n",
    "My Macbook has a native screen recording function that allows me to simultaneously record my voice. I am choosing to use this screen recorder because I have experience using it in the past to narrate code."
   ]
  },
  {
   "cell_type": "markdown",
   "id": "5a2a4230",
   "metadata": {},
   "source": [
    "**When we do a class zoom, when is the best time for you to zoom?**\n",
    "Monday through Saturday, with the exception of Tuesday evenings (anytime after 5 PM) and Wednesday mornings (anytime before 12 PM)."
   ]
  },
  {
   "cell_type": "markdown",
   "id": "2af6db64",
   "metadata": {},
   "source": [
    "**In the NetBeans tutorial video, the instructor makes a point of deselecting the \"Create Main Class\" option when creating a new Java project. She explained it as wanting to run all of our Java files instead of running a project, and I don't understand what she meant by this. What's the difference between running the project and running the files? What are best practices for organizing classes/files in Java?**"
   ]
  }
 ],
 "metadata": {
  "kernelspec": {
   "display_name": "Python 3 (ipykernel)",
   "language": "python",
   "name": "python3"
  },
  "language_info": {
   "codemirror_mode": {
    "name": "ipython",
    "version": 3
   },
   "file_extension": ".py",
   "mimetype": "text/x-python",
   "name": "python",
   "nbconvert_exporter": "python",
   "pygments_lexer": "ipython3",
   "version": "3.11.5"
  }
 },
 "nbformat": 4,
 "nbformat_minor": 5
}
