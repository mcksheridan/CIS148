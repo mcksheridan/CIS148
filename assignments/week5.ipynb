{
 "cells": [
  {
   "cell_type": "markdown",
   "id": "ed4c71fd",
   "metadata": {
    "tags": []
   },
   "source": [
    "## Student Name: Sheridan McKisick\n",
    "### Class: CIS148 Introduction to Programming with JAVA\n",
    "### Assignment: Week 5\n",
    "### Date Handed In: 2/17/24"
   ]
  },
  {
   "cell_type": "markdown",
   "id": "5d400225",
   "metadata": {},
   "source": [
    "# Place your Lab in Cells After this header.\n"
   ]
  },
  {
   "cell_type": "code",
   "execution_count": null,
   "id": "03c80ef9",
   "metadata": {},
   "outputs": [],
   "source": [
    "/*\n",
    "    Program Name: Driver Class\n",
    "    Programmer: Sheridan McKisick\n",
    "    Last Updated: February 17, 2024\n",
    "    Synposis: Execute classes from different assignment weeks\n",
    "*/\n",
    "\n",
    "public class Driver_Class {\n",
    "    public static void main(String[] args) {\n",
    "        System.out.println(\"Running Driver_Class...\");\n",
    "        Week01.runWeek(false);\n",
    "        Week02.runWeek(false);\n",
    "        Week03.runWeek(false);\n",
    "        Week04.runWeek(false);\n",
    "        Week05.runWeek(true); // Current week\n",
    "    }\n",
    "}"
   ]
  },
  {
   "cell_type": "code",
   "execution_count": null,
   "id": "a649d059",
   "metadata": {},
   "outputs": [],
   "source": [
    "/*\n",
    "    Program Name: Week05\n",
    "    Programmer: Sheridan McKisick\n",
    "    Date: February 17, 2024\n",
    "    Synposis: Week five's assignment\n",
    "*/\n",
    "\n",
    "import java.util.ArrayList;\n",
    "import java.util.Scanner;\n",
    "\n",
    "public class Week05 {\n",
    "    static Scanner sc = new Scanner(System.in);\n",
    "    \n",
    "    public static void runWeek(boolean run) {\n",
    "        if (run) {\n",
    "            // Array list to hold items that a user orders\n",
    "            ArrayList<MenuItem> order = new ArrayList<>();\n",
    "            \n",
    "            System.out.println(\"Welcome to McDonald's!\");\n",
    "            System.out.println(\"Here's our menu:\");\n",
    "            \n",
    "            MenuItem bigMac = new MenuItem(1, \"Big Mac\", 4.35,\n",
    "                    \"beef\", \"Big Mac sauce\", \"sesame seed bun\", \"pickles\",\n",
    "                    \"lettuce\", \"onion\", \"American cheese\");\n",
    "            MenuItem quarterPounder = new MenuItem(2, \"Quarter Pounder with Cheese\", 4.40,\n",
    "                    \"beef\", \"onions\", \"pickles\", \"American cheese\",\n",
    "                    \"sesame seed bun\");\n",
    "            MenuItem mcNuggets = new MenuItem(6, \"10 pc. Chicken McNuggets\", 4.35,\n",
    "                    \"white meat chicken\");\n",
    "            MenuItem filetOFish = new MenuItem(7, \"Filet-O-Fish\", 4.05,\n",
    "                    \"fish\", \"American cheese\", \"tartar sauce\");\n",
    "            MenuItem fries = new MenuItem(\"Fries\", 2.20);\n",
    "            MenuItem coke = new MenuItem(\"Coca-Cola\", 1.00);\n",
    "            \n",
    "            // Create menu from items with combo numbers\n",
    "            MenuItem[] comboMenu = {bigMac, quarterPounder, mcNuggets, filetOFish};\n",
    "            \n",
    "            // Print the combo menu\n",
    "            for (MenuItem combo: comboMenu) {\n",
    "                // Print with the \"useComboNumber\" boolean paramter\n",
    "                combo.printItem(combo.number);\n",
    "            }\n",
    "                    \n",
    "            System.out.println(\"Please enter the number of the menu item you want.\");\n",
    "            int comboChoice = sc.nextInt();  \n",
    "            \n",
    "            for (MenuItem combo: comboMenu) {\n",
    "                if (combo.number == comboChoice) {\n",
    "                    order.add(combo);\n",
    "                    combo.printIngredients();\n",
    "                    break;\n",
    "                }\n",
    "            }\n",
    "            \n",
    "            System.out.println(\"Would you like to add fries?\");\n",
    "            System.out.println(\"1 - Yes\");\n",
    "            System.out.println(\"2 - No\");\n",
    "            int fryChoice = sc.nextInt();\n",
    "            \n",
    "            if (fryChoice == 1) {\n",
    "                order.add(fries);\n",
    "            }\n",
    "            \n",
    "            System.out.println(\"Would you like to add a Coke?\");\n",
    "            System.out.println(\"1 - Yes\");\n",
    "            System.out.println(\"2 - No\");\n",
    "            int cokeChoice = sc.nextInt();\n",
    "            \n",
    "            if (cokeChoice == 1) {\n",
    "                order.add(coke);\n",
    "            }\n",
    "            \n",
    "            // The total price of all items the user has ordered\n",
    "            double total = 0;\n",
    "            \n",
    "            System.out.println(\"You ordered:\");\n",
    "            \n",
    "            for (MenuItem item: order) {\n",
    "                item.printItem();\n",
    "                // Add the price of an ordered item to the total\n",
    "                total = total + item.price;\n",
    "            }\n",
    "            \n",
    "            System.out.printf(\"Your total is: $%.2f%n\", total);\n",
    "        } else {\n",
    "            System.out.println(\"Skipping week five...\");\n",
    "        }\n",
    "    }\n",
    "}"
   ]
  },
  {
   "cell_type": "code",
   "execution_count": null,
   "id": "ec201982",
   "metadata": {},
   "outputs": [],
   "source": [
    "/*\n",
    "    Program Name: MenuItem\n",
    "    Programmer: Sheridan McKisick\n",
    "    Date: February 17, 2024\n",
    "    Synposis: Methods for creating menu items and printing ingredients/items\n",
    "*/\n",
    "\n",
    "public class MenuItem {\n",
    "    int number;\n",
    "    String name;\n",
    "    String[] ingredients;\n",
    "    double price;\n",
    "    \n",
    "    MenuItem(String name, double price, String ...ingredients) {\n",
    "        this.name = name;\n",
    "        this.price = price;\n",
    "        this.ingredients = ingredients;\n",
    "    }\n",
    "    \n",
    "    MenuItem(int number, String name, double price, String ...ingredients) {\n",
    "        this.number = number;\n",
    "        this.name = name;\n",
    "        this.price = price;\n",
    "        this.ingredients = ingredients;\n",
    "    }\n",
    "    \n",
    "    public void printIngredients() {\n",
    "        System.out.println(\"Here's what your sandwich comes with:\");\n",
    "        for (String ingredient: ingredients) {\n",
    "            System.out.println(\"- \" +  ingredient);\n",
    "        }\n",
    "    }\n",
    "    \n",
    "    public void printItem(int number) {\n",
    "        System.out.printf(number + \" - \" + name + \" ($%.2f)%n\", price);\n",
    "    }\n",
    "    \n",
    "    public void printItem() {\n",
    "        System.out.printf(\"- \" + name + \" ($%.2f)%n\", price);\n",
    "    }\n",
    "}"
   ]
  },
  {
   "cell_type": "markdown",
   "id": "051ec859",
   "metadata": {},
   "source": [
    "# Place your Video Link in the Cell After this header.\n"
   ]
  },
  {
   "cell_type": "markdown",
   "id": "0e8e6c46",
   "metadata": {},
   "source": [
    "https://youtu.be/MRYr3nGqbDQ"
   ]
  },
  {
   "cell_type": "markdown",
   "id": "c53a180a",
   "metadata": {},
   "source": [
    "# Place your Wiki in the Cell After this header."
   ]
  },
  {
   "cell_type": "markdown",
   "id": "48a694c8",
   "metadata": {},
   "source": [
    "- The garbage collector came up during the reading, and I have only the tiniest understanding of what that means and how it fits into the Java lifecycle. I asked ChatGPT to explain it to me. ChatGPT said that `finalize()` was discouraged due to potential performance implications, so I did some research on that next. I found an article on [Baeldung](https://www.baeldung.com/java-finalize) that talked about it in a way that made some sense to me, and then I decided to fool around with `finalize()` in NetBeans to see what I could (or couldn't) make happen there. I came up with a basic `finalize()` method designed to print something out and tried to stick it in a few different places. I either came up with warnings like (\"finalize() in Object has been deprecated and marked for removal\") or errors like (\"cannot override finalize() in Object\"). I turned to StackOverflow to figure out what was happening, and the folks there seemed pretty united against using `finalize()`. Thus concluded my short but strange adventure with it.\n",
    "\n",
    "- I encountered an unexpected opportunity to use method overloading when printing out the information for a menu item. At first, I didn't have a method created specifically for printing out item information, but I realized I printed this information in a couple of places, so it made sense in my mind to consolidate everything into a method. Then, I realized that I didn't always want to print an item with its combo number. In fact, I only wanted to see the combo numbers when I was displaying the menu to the customer. I wasn't sure how I wanted to handle this, but I figured I could pass in a parameter to the `printItem()` method that would signal if an item needed to print with a combo number or not. I didn't want to have go back and edit every time I called `printItem()` to pass in a parameter though, so I figured I could create some sort of default value for a parameter. I tried to pass in a boolean parameter of `useComboNumber`, and I wanted to set it to `false` by default or otherwise somehow indicate that it was optional. It took a bit of StackOverflow for me to realize that what I wanted was covered by method overloading. There were multiple examples of method overloading in the reading where the difference between methods was the number of parameters passed to the method, and yet it didn't click until then that that was the technique I wanted to use. It was nice to have something come full circle like that."
   ]
  },
  {
   "cell_type": "markdown",
   "id": "fcf4567a",
   "metadata": {},
   "source": [
    "# Place your Questions in the Cell After this header. \n"
   ]
  },
  {
   "cell_type": "markdown",
   "id": "7954d49a",
   "metadata": {},
   "source": [
    "**I have had programmers describe methods as an ugly mess, why do you suppose that is?** I think a complex program would have methods where it's not clear what a method does, what values it uses or returns, etc. due to things like overloading, overriding, and the breadth of scope. It would probably be easy to wind up in a situation where, to understand one particular method, you wind up looking at several other methods first."
   ]
  },
  {
   "cell_type": "markdown",
   "id": "b16bc8e2",
   "metadata": {},
   "source": [
    "**When I say there is a lot to methods, what is the most challenging thing for you to understand when working with methods?** It's hard for me to anticipate what value will come out of `this`. Overriding and overloading (mostly?) make sense to me, but understanding what scope things came from when using `this` was counterintuitive to me. The reading had an example of a local variable and an instance variable, using the `this` keyword, and I kept expecting the values to be reversed."
   ]
  },
  {
   "cell_type": "markdown",
   "id": "f80c19f2",
   "metadata": {},
   "source": [
    "**Ask me a question, and see if I know the answer.** The reading outlined quite a few rules for when not to use overriding. It also showed an example of creating an Animal that was a dog but not created from the Dog object, so it couldn't bark. Given these limitations, what would be a typical use case for when method overriding makes sense? (I know the general answer is for achieving polymorphic runtime, but is there a more explicit example of why that matters.)"
   ]
  }
 ],
 "metadata": {
  "kernelspec": {
   "display_name": "Python 3 (ipykernel)",
   "language": "python",
   "name": "python3"
  },
  "language_info": {
   "codemirror_mode": {
    "name": "ipython",
    "version": 3
   },
   "file_extension": ".py",
   "mimetype": "text/x-python",
   "name": "python",
   "nbconvert_exporter": "python",
   "pygments_lexer": "ipython3",
   "version": "3.11.5"
  }
 },
 "nbformat": 4,
 "nbformat_minor": 5
}
