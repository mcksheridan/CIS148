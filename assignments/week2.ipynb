{
 "cells": [
  {
   "cell_type": "markdown",
   "id": "ed4c71fd",
   "metadata": {
    "tags": []
   },
   "source": [
    "## Student Name: Sheridan McKisick\n",
    "### Class: CIS148 Introduction to Programming with JAVA\n",
    "### Assignment: Java Assignment 2 Basic Java Stuff\n",
    "### Date Handed In: Saturday, January 27\n"
   ]
  },
  {
   "cell_type": "markdown",
   "id": "5d400225",
   "metadata": {},
   "source": [
    "# Place your Lab in Cells After this header.\n"
   ]
  },
  {
   "cell_type": "code",
   "execution_count": null,
   "id": "c1e547ff",
   "metadata": {},
   "outputs": [],
   "source": [
    "public class Driver_Class {\n",
    "    public static void main(String[] args) {\n",
    "        System.out.println(\"Running Driver_Class...\");\n",
    "        Week01.runWeek(false);\n",
    "        Week02.runWeek(true);\n",
    "    }\n",
    "}"
   ]
  },
  {
   "cell_type": "code",
   "execution_count": null,
   "id": "a649d059",
   "metadata": {},
   "outputs": [],
   "source": [
    "public class Week02 {\n",
    "    \n",
    "    public static void runWeek(boolean run) {\n",
    "        if (run) {\n",
    "            Greeter myGreeterObject = new Greeter();\n",
    "            myGreeterObject.sayHello();\n",
    "            myGreeterObject.askAge();\n",
    "            myGreeterObject.takeCard();\n",
    "            myGreeterObject.getNumber();\n",
    "            RollDice.rollDice();\n",
    "        } else {\n",
    "            System.out.println(\"Skipping week two...\");\n",
    "        }\n",
    "    }\n",
    "}"
   ]
  },
  {
   "cell_type": "code",
   "execution_count": null,
   "id": "af73c425",
   "metadata": {},
   "outputs": [],
   "source": [
    "import java.util.Scanner;\n",
    "\n",
    "public class Greeter {\n",
    "    static Scanner sc = new Scanner(System.in);\n",
    "    public enum CardSuit {HEARTS, SPADES, CLUBS, DIAMONDS};\n",
    "    public void sayHello() {\n",
    "        System.out.println(\"Hello!\");\n",
    "    }\n",
    "    public void askAge() {\n",
    "        System.out.println(\"How old are you?\");\n",
    "        int x = sc.nextInt();\n",
    "        System.out.println(\"You are \" + x + \" years old.\");\n",
    "    }\n",
    "    public void takeCard() {\n",
    "        CardSuit suit = CardSuit.HEARTS;\n",
    "        System.out.println(\"Your suit is \" + suit);\n",
    "    }\n",
    "    public void getNumber() {\n",
    "        System.out.println(\"Pick a number\");\n",
    "        int x = sc.nextInt();\n",
    "        if ((x % 3 != 0 && x % 2 != 0) || x == 0)\n",
    "            System.out.println(\"This number is not divisible by two or three...or it's a zero.\");\n",
    "        else\n",
    "            System.out.println(\"This number is divisble by two or three.\");\n",
    "    }\n",
    "}"
   ]
  },
  {
   "cell_type": "code",
   "execution_count": null,
   "id": "a2f47d8f",
   "metadata": {},
   "outputs": [],
   "source": [
    "public class RollDice {\n",
    "    private static int randomInt(int low, int high) {\n",
    "        int result = (int)(Math.random() * (high - low + 1)) + low;\n",
    "        return result;\n",
    "    }\n",
    "    public static void rollDice() {\n",
    "        int totalRolls = 20;\n",
    "        System.out.println(\"Let's roll the dice \" + totalRolls + \" times!\");\n",
    "        int roll;\n",
    "        int i = 0;\n",
    "        while (i < totalRolls) {\n",
    "            roll = randomInt(1, 6);\n",
    "            System.out.println(\"Roll \" + ++i + \": \" + roll);\n",
    "        }\n",
    "    }\n",
    "}"
   ]
  },
  {
   "cell_type": "markdown",
   "id": "051ec859",
   "metadata": {},
   "source": [
    "# Place your Video Link in the Cell After this header.\n"
   ]
  },
  {
   "cell_type": "markdown",
   "id": "0e8e6c46",
   "metadata": {},
   "source": [
    "[https://youtu.be/XTXAVDAK4mE](https://youtu.be/XTXAVDAK4mE)"
   ]
  },
  {
   "cell_type": "markdown",
   "id": "c53a180a",
   "metadata": {},
   "source": [
    "# Place your Wiki in the Cell After this header."
   ]
  },
  {
   "cell_type": "markdown",
   "id": "48a694c8",
   "metadata": {},
   "source": [
    "There was a lot of syntax to unpack this week. My favorite way to learn programming things is to get into the code and start breaking things. I followed the examples from the book a little more closely than I followed the examples from the website last week. The four functions I created were really straightforward, and that made it easier to break things apart and confirm my understanding of what did what and why.\n",
    "\n",
    "I created a `.takeCard()` method inside of a Greeter class based on the enum example of creating your own type for card suits. I tried to locally scope the enum, but discovered I couldn't as long as it was declared with the `public` keyword. Then, I realized this meant I could access the card suit enum from my Week02 class. The syntax differs from when you want to call a method by creating an instance of a class, so I struggled a bit with figuring out how to create a variable from that enum. The enum name and value name turned out a bit long, but in the end I wound up with:\n",
    "\n",
    "```\n",
    "Greeter.CardSuit myCardSuit = Greeter.CardSuit.DIAMONDS\n",
    "```\n",
    "\n",
    "(I think I hoped I would be able to cut out the second reference to \"Greeter.CardSuit,\" and that sent me around in circles for a bit.)\n",
    "\n",
    "I didn't really need to access the card suit enum from the Week02 class, so I thought it would be smart to locally scope it, but my IDE errors told me that wasn't possible. I removed the `public` keyword from it next to see what would happen. It was still accessible from the Week02 class, and that's when I realized that public is the default setting. I had to declare it `private` to make my HelloApp2 produce an error.\n",
    "\n",
    "I changed a different to `static` to see what would happen. The app still compiled and ran as expected, but I did see a notice about accessing a static method. We learned during the reading that static methods are called from classes, so to make this notice disappear, all I had to do was call this static method directly from its class as opposed to from the object I instantiated from the class. I also tried calling this method inside of a different method in the Greeter class. Initially, I called it by using `Greeter.this.methodIdentifier();`, but the `this` wasn't necessary.\n",
    "\n",
    "Digging into the `static` keyword a bit more, I noticed that when we used the scanner class, we declared it with `static`. I wanted to see what would happen if I removed this. Everything seemed to work fine, so I'm not sure what the argument for making this a class variable--as opposed to an instance variable--would be in this specific case.\n",
    "\n",
    "One thing I didn't really understand from the reading was `void`, so that was next up on my list of things to break. Deleting it immediately gave me an error about needing a return type declaration. The reading says that the `void` keyword means that a method doesn't return anything. Naturally, I needed to know what kind of keyword indicates that a method **does** return something, so I asked ChatGPT about it. Previously, I hadn't made the connection that the other data types (like primitives and references) were available as return types for methods.\n",
    "\n",
    "So I decided it would be fun (?) to break my `.askeAge()` method on the Greeter class. I changed its return type from `void` to `int` and returned the value of the integer the user inputs:\n",
    "\n",
    "```\n",
    "    public int askAge() {\n",
    "        System.out.println(\"How old are you?\");\n",
    "        int x = sc.nextInt();\n",
    "        return x;\n",
    "//        System.out.println(\"You are \" + x + \" years old.\");\n",
    "    }\n",
    "```\n",
    "\n",
    "Then, in the Week02 class, I stored the result of the call to `.askAge()` to an integer variable and then added the system output there instead:\n",
    "\n",
    "```\n",
    "        int age = myGreeterObject.askAge();\n",
    "        System.out.println(\"This is your age: \" + age);\n",
    "```\n",
    "\n",
    "Although I changed everything back because I'd rather have the `.askAge()` method handle displaying the user's age then the Week02 class, it was cool to see everything continue to work and have a better understanding of why/when to use `void`."
   ]
  },
  {
   "cell_type": "markdown",
   "id": "fcf4567a",
   "metadata": {},
   "source": [
    "# Place your Questions in the Cell After this header. \n"
   ]
  },
  {
   "cell_type": "markdown",
   "id": "a4f61f4b",
   "metadata": {},
   "source": [
    "**public is what kind of word in Java?**\n",
    "It's a keyword, a type of word that the Java programming language defines. When an element is public, that means it's available to other elements to use."
   ]
  },
  {
   "cell_type": "markdown",
   "id": "4df40480",
   "metadata": {},
   "source": [
    "**If we have a `{` what do we know we will also need?**\n",
    "A closing brace, `{`."
   ]
  },
  {
   "cell_type": "markdown",
   "id": "3c1cfcb1",
   "metadata": {},
   "source": [
    "**Ok this book runs all the Java examples it does from the command line; how is that different from the way we run them?**\n",
    "We use an IDE, which helps us to compile and execute our code, instead of executing our code directly from the command line."
   ]
  },
  {
   "cell_type": "markdown",
   "id": "30b3bd9f",
   "metadata": {},
   "source": [
    "**What Keywords are considered literals in Java?** `true`, `false`, and `null`"
   ]
  },
  {
   "cell_type": "markdown",
   "id": "bc203043",
   "metadata": {},
   "source": [
    "**How does Java deal with white space?** One or more consecutive white spaces are all treated as a single space. For example,\n",
    "\n",
    "```\n",
    "i = a + b;\n",
    "```\n",
    "compiles identically to\n",
    "```\n",
    "i =\n",
    "\n",
    "\n",
    "a + b;\n",
    "```\n",
    "because Java treats the white spaces the same, regardless of the type or amount."
   ]
  },
  {
   "cell_type": "markdown",
   "id": "ac7ed428",
   "metadata": {},
   "source": [
    "**What is an Identifier in Java, and how do you create one?** Identifiers are the words we create ourselves (rather than Java creating them for us, as in the case of keywords) to name elements in our program. You create an identifier by choosing a string of characters that begins with a letter; only consists of letters, numbers, underscore characters, and dollar signs; and isn't the same as any Java keyword or literal."
   ]
  },
  {
   "cell_type": "markdown",
   "id": "bd2c4e96",
   "metadata": {},
   "source": [
    "**What is an object?** Something that maintains both state and behavior, where state represents data that the object tracks and behavior represents methods that can perform actions."
   ]
  },
  {
   "cell_type": "markdown",
   "id": "9d364b39",
   "metadata": {},
   "source": [
    "**Where are static methods called from?** Classes (as opposed to objects, which are instances of classes)"
   ]
  },
  {
   "cell_type": "markdown",
   "id": "5232f566",
   "metadata": {},
   "source": [
    "**Did you find the BluePrint Analogy helpful, and what did it explain?** I didn't find it particularly helpful, to be honest. I wish the text had provided more examples from code. The first analogy explained the relationship between a class and an object, where a class is an architectural blueprint and an object is the house the blueprint builds, or an instantiation of a class. The analogy expanded to compare calling static methods to performing an action related to the blueprint that doesn't require the whole house to have already been built."
   ]
  },
  {
   "cell_type": "markdown",
   "id": "504838e7",
   "metadata": {},
   "source": [
    "**What is an instance in Java?** An instance is basically the actualization of the \"blueprint\" a class provides. An object is an instance of a class."
   ]
  },
  {
   "cell_type": "markdown",
   "id": "09dc9949",
   "metadata": {},
   "source": [
    "**How would you make an instance in Java?** You create an object. To create an object, you define a variable with a type of the class you want to create the object from, and you give assign the variable a value of new object from that class. It should look like this:\n",
    "\n",
    "```\n",
    "ClassYouWantToInstantiate yourObjectName =\n",
    "new ClassYouWantToInstantiate();\n",
    "```"
   ]
  },
  {
   "cell_type": "markdown",
   "id": "411372cc",
   "metadata": {},
   "source": [
    "**How is the Greeter class different from the HelloApp2 class?** Although they both live in their own files, we don't really access Greeter directly. Greeter is a class we create an instance of inside of HelloApp2. The Greeter class is where we've created a method that performs an action (i.e. saying hello world). Meanwhile, HelloApp2 uses `main` method, making it the entry point to our Java application, and is a static method. "
   ]
  },
  {
   "cell_type": "markdown",
   "id": "eab8385a",
   "metadata": {},
   "source": [
    "**How do you declare a variable in Java?** You declare a type, pick some characters to use as an identifier, and then assign a value to the variable using an equals sign. For example, if we want to create a integer variable with a value of 5, it would look like this:\n",
    "\n",
    "```\n",
    "int myNumber = 5;\n",
    "```"
   ]
  },
  {
   "cell_type": "markdown",
   "id": "4cb26f07",
   "metadata": {},
   "source": [
    "**What is a variable in Java?** A value or otherwise some bit of data that we've stored with an identifier we can use to retrieve it when we'd like"
   ]
  },
  {
   "cell_type": "markdown",
   "id": "d792dfeb",
   "metadata": {},
   "source": [
    "**What is a class variable in Java?** It's a variable that any method inside of a particular class can access. It has to be declared with the word `static` and can't be inside of any of the methods of the class."
   ]
  },
  {
   "cell_type": "markdown",
   "id": "58e9e4c2",
   "metadata": {},
   "source": [
    "**What is a instance variable in Java?** It's a variable that methods inside of classes that you instantiate can access. You don't use the keyword `static` when you declare it, so it can't be used for static methods (i.e. methods that you can't instantiate)."
   ]
  },
  {
   "cell_type": "markdown",
   "id": "7d9235f8",
   "metadata": {},
   "source": [
    "**What is a local variable in Java?** It's a variable that you declare inside of the body of a method, so it's \"locally\" scoped to that method and can't be used outside of it. Local variables are declared without the `static` keyword and must be declared before you use it."
   ]
  },
  {
   "cell_type": "markdown",
   "id": "851edf42",
   "metadata": {},
   "source": [
    "**What is a final variable?** It's a variable whose value you can't change. Whatever value you initialize it with will be the value it always has. To create a final variable as a class variable, the `static` keyword should go before the `final` keyword. Final variables are typically typed in SNAKE_CASE."
   ]
  },
  {
   "cell_type": "markdown",
   "id": "c59f92f7",
   "metadata": {},
   "source": [
    "**Integers and Floating point numbers can be described as what type of data type?** Primitive types, also known as value types"
   ]
  },
  {
   "cell_type": "markdown",
   "id": "aa30c0e4",
   "metadata": {},
   "source": [
    "**What is the importance of an escape sequence character?** It allows you to create a character literal that you otherwise wouldn't be able to type, like a single quote or a new line."
   ]
  },
  {
   "cell_type": "markdown",
   "id": "c50bc6eb",
   "metadata": {},
   "source": [
    "**What is a 'Wrapper Class' and what does it really mean?** A class that wraps a primitive value to make it behave like an object. \"Behave like an object\" means that it gives primitive types access to methods unique to their respective type. For example, integers have a wrapper class \"Integer\" that has a `.parseInt()` method."
   ]
  },
  {
   "cell_type": "markdown",
   "id": "0a837da6",
   "metadata": {},
   "source": [
    "**What is casting?(and you may have to look out side of the readings for this.)** Casting is when you manually convert one type of data to another by changing its type. Here's an example from the lab I submitted last week:\n",
    "\n",
    "```\n",
    "int dividend = input.nextInt();\n",
    "int divisor = input.nextInt();\n",
    "float quotientFloat = (float) dividend / divisor;\n",
    "```\n",
    "\n",
    "Without casting the quotient as a float with the cast operator, it would appear as an integer, and quotients that weren't whole numbers would be truncated."
   ]
  },
  {
   "cell_type": "markdown",
   "id": "8282508a",
   "metadata": {},
   "source": [
    "**Scope is something that is explained in one of the chapters quite well; but what is your understanding of Scope?** In Java, it seems like scope is defining which methods have access to a variable. A local variable is scoped to the particular method it resides in, but a class variable is scoped to the whole of the class it resides in, so all methods inside of that class have a class variable in scope."
   ]
  },
  {
   "cell_type": "markdown",
   "id": "71f24180",
   "metadata": {},
   "source": [
    "**What is Shadowing?** Shadowing is when you have given two or more variables the same identifier, and the one with the less immediate scope becomes unavailable (when you attempt to retrieve it using the identifier)."
   ]
  },
  {
   "cell_type": "markdown",
   "id": "641d5927",
   "metadata": {},
   "source": [
    "**What does the Scanner class do for you?** It allows you to receive input values from the user."
   ]
  },
  {
   "cell_type": "markdown",
   "id": "f72d70be",
   "metadata": {},
   "source": [
    "**What does enum do for you?** You can create your own custom variable type with enums. Enums let you constrain valid values to your liking."
   ]
  },
  {
   "cell_type": "markdown",
   "id": "5a811d41",
   "metadata": {},
   "source": [
    "**What is a ternary operator in Java?** It's a conditional operator. The first operand represents some sort of \"question\" (i.e. condition/boolean expression) that can be answered either true or false. If it's true, the operand before the colon is evaluated. If it's false, the operand after the colon is the evaluated instead."
   ]
  },
  {
   "cell_type": "markdown",
   "id": "81af3f42",
   "metadata": {},
   "source": [
    "**Mathematically, you can divide any number by zero; I have seen it done and there are youTube videos explaining it; why can't you do it in programming? (I realize this is an off-the-wall question, but think about it; most of you know why already. And it is the same reason in programming)** Dividing by zero will give us a result of infinity. I'm assuming that programs would have difficulty handling this either because infinity isn't a number or because a program wouldn't have the memory to allocate to infinity. In Java, dividing an integer by zero crashes your program, and dividing a floating point by zero gives you either negative or positive infinity--or otherwise not a number if you're dividing zero by zero."
   ]
  },
  {
   "cell_type": "markdown",
   "id": "6d853dd0",
   "metadata": {},
   "source": [
    "**Can you combine operators in Java?(provide an example.)** Yes, and it similar to the order of operations in math. You could initialize an integer variable as 5 + 2 * 7 (for a result of 19), for example:\n",
    "\n",
    "```\n",
    "int myNumber = 5 + 2 * 7;\n",
    "```"
   ]
  },
  {
   "cell_type": "markdown",
   "id": "4a15e7a6",
   "metadata": {},
   "source": [
    "**What is the Assignment operator in Java?** The equal sign, `=`. It assigns a value to a variable."
   ]
  },
  {
   "cell_type": "markdown",
   "id": "3883ddbb",
   "metadata": {},
   "source": [
    "**What is a compound assignment operator in Java?** An operator that simultaneously performs a calculation and assigns a value. `+= 1` would basically be the compound assignment operator equivalent of a prefixed increment operator."
   ]
  },
  {
   "cell_type": "markdown",
   "id": "d17ff2d4",
   "metadata": {},
   "source": [
    "**What would you use the math class for?** A Java class with static methods that you can use for more advanced mathematical calculations."
   ]
  },
  {
   "cell_type": "markdown",
   "id": "446c4c8a",
   "metadata": {},
   "source": [
    "**What does 'import' do in Java?** You can use `import` to use packages from the Java API without typing out their full name. For example, if you want to create an array list, you can either type out its full name, i.e. `java.utils.ArrayList`, or import it and then refer to it as `ArrayList`."
   ]
  }
 ],
 "metadata": {
  "kernelspec": {
   "display_name": "Python 3 (ipykernel)",
   "language": "python",
   "name": "python3"
  },
  "language_info": {
   "codemirror_mode": {
    "name": "ipython",
    "version": 3
   },
   "file_extension": ".py",
   "mimetype": "text/x-python",
   "name": "python",
   "nbconvert_exporter": "python",
   "pygments_lexer": "ipython3",
   "version": "3.11.5"
  }
 },
 "nbformat": 4,
 "nbformat_minor": 5
}
