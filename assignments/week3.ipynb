{
 "cells": [
  {
   "cell_type": "markdown",
   "id": "ed4c71fd",
   "metadata": {
    "tags": []
   },
   "source": [
    "## Student Name: Sheridan McKisick\n",
    "### Class: CIS148 Introduction to Programming with JAVA\n",
    "### Assignment: Assignment Three\n",
    "### Date Handed In: 2/3/24"
   ]
  },
  {
   "cell_type": "markdown",
   "id": "5d400225",
   "metadata": {},
   "source": [
    "# Place your Lab in Cells After this header.\n"
   ]
  },
  {
   "cell_type": "code",
   "execution_count": null,
   "id": "03c80ef9",
   "metadata": {},
   "outputs": [],
   "source": [
    "/*\n",
    "    Program Name: CurrencyConversionRate\n",
    "    Programmer: Sheridan McKisick\n",
    "    Date: February 3, 2024\n",
    "    Synposis: Defines currency conversion rates using data from February 3, 2024, where each rate equals 1 USD\n",
    "*/\n",
    "public class CurrencyConversionRate {\n",
    "    Double eur = 1.07838;\n",
    "    Double gbp = 1.26298;\n",
    "    Double jpy = 0.00674;\n",
    "    Double zar = 0.05288;\n",
    "    Double cad = 0.74248;\n",
    "}"
   ]
  },
  {
   "cell_type": "code",
   "execution_count": null,
   "id": "a649d059",
   "metadata": {},
   "outputs": [],
   "source": [
    "public class Week03 {\n",
    "    static Scanner sc = new Scanner(System.in);\n",
    "    \n",
    "    public static void runWeek(boolean run) {\n",
    "        if (run) {\n",
    "            System.out.println(\"Enter the amount of currency you would like to convert.\");\n",
    "            Double conversionInput = sc.nextDouble();\n",
    "            String currencies[] = {\"CAD\", \"EUR\", \"GBP\", \"JPY\", \"ZAR\"};\n",
    "            CurrencyConversionRate rates = new CurrencyConversionRate();\n",
    "            for (String element : currencies) {\n",
    "                Double rate = 0.0;\n",
    "                switch (element) {\n",
    "                    case \"CAD\": rate = rates.cad;\n",
    "                    break;\n",
    "                    case \"EUR\": rate = rates.eur;\n",
    "                    break;\n",
    "                    case \"GBP\": rate = rates.gbp;\n",
    "                    break;\n",
    "                    case \"JPY\": rate = rates.jpy;\n",
    "                    break;\n",
    "                    case \"ZAR\": rate = rates.zar;\n",
    "                    break; \n",
    "                }\n",
    "                System.out.printf(\"%.2f\", conversionInput);\n",
    "                System.out.print(\" \" + element + \"\\t\" + \"USD\");\n",
    "                System.out.printf(\" %.2f\\n\", rate * conversionInput);\n",
    "            }\n",
    "        } else {\n",
    "            System.out.println(\"Skipping week three...\");\n",
    "        }\n",
    "    }\n",
    "}"
   ]
  },
  {
   "cell_type": "code",
   "execution_count": null,
   "id": "08364fb3",
   "metadata": {},
   "outputs": [],
   "source": [
    "public class Driver_Class {\n",
    "    public static void main(String[] args) {\n",
    "        System.out.println(\"Running Driver_Class...\");\n",
    "        Week01.runWeek(false);\n",
    "        Week02.runWeek(false);\n",
    "        Week03.runWeek(true);\n",
    "    }\n",
    "}"
   ]
  },
  {
   "cell_type": "markdown",
   "id": "051ec859",
   "metadata": {},
   "source": [
    "# Place your Video Link in the Cell After this header.\n"
   ]
  },
  {
   "cell_type": "markdown",
   "id": "0e8e6c46",
   "metadata": {},
   "source": [
    "[https://youtu.be/o1XWCrTGyuU](https://youtu.be/o1XWCrTGyuU)"
   ]
  },
  {
   "cell_type": "markdown",
   "id": "c53a180a",
   "metadata": {},
   "source": [
    "# Place your Wiki in the Cell After this header."
   ]
  },
  {
   "cell_type": "markdown",
   "id": "48a694c8",
   "metadata": {},
   "source": [
    "I'm pretty familiar with conditions and the different types of loops, so I think a lot of what I learned this week stemmed from introducing modularity. However, before I dive into that, I did a couple of logic and condition related pieces of insight.\n",
    "\n",
    "Regarding logic, I wanted to see if it would be possible to handle invalid user input. If a user doesn't enter a double (or at least a number of some sort that Java can convert to a double), then the program encounters an error. I wanted to know if I could use a ternary operator create a fallback value (of zero) in the event that the user did try to enter something incompatible with the double type. The short answer is: no?\n",
    "\n",
    "I wanted to transform this line:\n",
    "\n",
    "```\n",
    "Double conversionInput = sc.nextDouble();\n",
    "```\n",
    "\n",
    "into something that looked like this:\n",
    "\n",
    "```\n",
    "Double conversionInput = sc.nextDouble() ? sc.nextDouble() : 0.0;\n",
    "```\n",
    "\n",
    "The error I got told me that my types were incompatible because I was trying to initialize a double with the value of a Boolean. I thought the existence of a value for `.nextDouble()` might make it evaluate to something that was equivalent to true or false, but I think I was thinking with my JavaScript brain. I switched things up a bit based on the feedback from the error and readjusted the statement so that it read:\n",
    "\n",
    "```\n",
    "Double conversionInput = sc.nextDouble() > 0 | sc.nextDouble() < 0 ? sc.nextDouble() : 0.0;\n",
    "```\n",
    "\n",
    "But when I tried to enter the letter \"z\" as my conversion input, I still got an error. I think the conclusion here is that I'm excited to find out how to handle exceptions like these in Java.\n",
    "\n",
    "As far as conditions go, I used a switch statement in the assignment. I used it to assign a currency rate based on a currency code. Initially, I created a double and gave it the identifier of rate but didn't initialize it with a value. Later, I received a warning that my rate variable might not be defined. I wound up initializing the rate variable with a fallback value of zero, but I discovered that adding a default case to my switch statement in which I gave the rate variable a value of zero worked just as well. I'll keep that in mind the next time around.\n"
   ]
  },
  {
   "cell_type": "markdown",
   "id": "fcf4567a",
   "metadata": {},
   "source": [
    "# Place your Questions in the Cell After this header. \n"
   ]
  },
  {
   "cell_type": "markdown",
   "id": "7954d49a",
   "metadata": {},
   "source": [
    "**How can approaching Java through a Modular Perspective enhance your coding experience in Java?**\n",
    "Modular programming can make code easier to read because individual files tend to be shorter. Grouping things into separate files with established conventions also makes it easier to return to code and find something you're looking for. Modular programming emphasizes reusability, so you can avoid repeating yourself (and accidentally making mistakes in the process), make updates to code in one place as opposed to multiple places, and avoid needing to repeat fixes for errors. Modular code is also easier to test, easier to refactor, easier to update, and easier to collaborate on."
   ]
  },
  {
   "cell_type": "markdown",
   "id": "b16bc8e2",
   "metadata": {},
   "source": [
    "**What is the only correct use for an inline comment in Java?**\n",
    "A comment that does not extend past a single line (and your comment must come at the end of the line if it shares a line with code you want executed)"
   ]
  },
  {
   "cell_type": "markdown",
   "id": "f80c19f2",
   "metadata": {},
   "source": [
    "**Are Header Comments more trouble then they are worth?**\n",
    "No. Valuable information, like the author, reference links, versioning, etc. can live in the header comment and serve as valuable documentation."
   ]
  },
  {
   "cell_type": "markdown",
   "id": "8295ba4e",
   "metadata": {},
   "source": [
    "**What looping structure offers the best opportunity to toss you into a perpetual loop?**\n",
    "A `while` loop or a `do while` loop. Unlike a `while` loop, the structure of a `for` loop includes a means of incrementing/decrementing its initializing condition. Although it's still possible to have an infinite `for` loop, with a `while` (or `do while`) loop, you have to remember to create the structure for an intializing condition and a means of updating that condition so that it can eventually be false yourself."
   ]
  },
  {
   "cell_type": "markdown",
   "id": "5a2a4230",
   "metadata": {},
   "source": [
    "**What does a for loop in Java do?**\n",
    "It executes your chosen statement while your testing condition is true. After each execution, the initializing condition will increment/decrement according to your chosen value."
   ]
  },
  {
   "cell_type": "markdown",
   "id": "2af6db64",
   "metadata": {},
   "source": [
    "**I love the 'switch' statement; why?** It's more readable than using the equivalent if-then-else statements."
   ]
  },
  {
   "cell_type": "markdown",
   "id": "193d6f7d",
   "metadata": {},
   "source": [
    "**Do all 'switch' statements have a 'default'?** No. The `default` statement is optional."
   ]
  },
  {
   "cell_type": "markdown",
   "id": "2a9ce1e8",
   "metadata": {},
   "source": [
    "**How would you set a conditional to end a for loop prematurely?** You could use the `break` jump statement."
   ]
  },
  {
   "cell_type": "markdown",
   "id": "438084e9",
   "metadata": {},
   "source": [
    "**What are the parts of a for loop?** The initializing variable, the testing condition that will allow our loop to continue if true, and a condition designed to help the loop reach termination (e.g. a means of incrementing/decrementing our initializing variable)."
   ]
  },
  {
   "cell_type": "markdown",
   "id": "e750c75e",
   "metadata": {},
   "source": [
    "**If I had a Hammer, what kind of class would that be?** An object class (not a modular class). It's a real world object that has properties that describe it (e.g. weight, length, etc. in the case of a hammer) and common methods than can be used for it (e.g. a \"hit\" method or something like that)."
   ]
  }
 ],
 "metadata": {
  "kernelspec": {
   "display_name": "Python 3.8.5 64-bit",
   "language": "python",
   "name": "python3"
  },
  "language_info": {
   "codemirror_mode": {
    "name": "ipython",
    "version": 3
   },
   "file_extension": ".py",
   "mimetype": "text/x-python",
   "name": "python",
   "nbconvert_exporter": "python",
   "pygments_lexer": "ipython3",
   "version": "3.8.5"
  },
  "vscode": {
   "interpreter": {
    "hash": "aee8b7b246df8f9039afb4144a1f6fd8d2ca17a180786b69acc140d282b71a49"
   }
  }
 },
 "nbformat": 4,
 "nbformat_minor": 5
}
