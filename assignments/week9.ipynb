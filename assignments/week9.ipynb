{
 "cells": [
  {
   "cell_type": "markdown",
   "id": "ed4c71fd",
   "metadata": {
    "tags": []
   },
   "source": [
    "## Student Name: Sheridan McKisick\n",
    "### Class: CIS148 Introduction to Programming with JAVA\n",
    "### Assignment: Week 9\n",
    "### Date Handed In: March 24, 2024"
   ]
  },
  {
   "cell_type": "markdown",
   "id": "5d400225",
   "metadata": {},
   "source": [
    "# Place your Lab in Cells After this header.\n"
   ]
  },
  {
   "cell_type": "code",
   "execution_count": null,
   "id": "03c80ef9",
   "metadata": {},
   "outputs": [],
   "source": [
    "/*\n",
    "    Program Name: Driver Class\n",
    "    Programmer: Sheridan McKisick\n",
    "    Last Updated: March 23, 2024\n",
    "    Synposis: Execute classes from different assignment weeks\n",
    "*/\n",
    "\n",
    "public class Driver_Class {\n",
    "    public static void main(String[] args) {\n",
    "        System.out.println(\"Running Driver_Class...\");\n",
    "        Week01.runWeek(false);\n",
    "        Week02.runWeek(false);\n",
    "        Week03.runWeek(false);\n",
    "        Week04.runWeek(false);\n",
    "        Week05.runWeek(false);\n",
    "        Week06.runWeek(false);\n",
    "        Week07.runWeek(false);\n",
    "        Week09.runWeek(true);\n",
    "    }\n",
    "}"
   ]
  },
  {
   "cell_type": "code",
   "execution_count": null,
   "id": "a649d059",
   "metadata": {},
   "outputs": [],
   "source": [
    "/*\n",
    "    Program Name: Week09\n",
    "    Programmer: Sheridan McKisick\n",
    "    Date: March 23, 2024\n",
    "    Synposis: Week nine's assignment\n",
    "*/\n",
    "\n",
    "public class Week09 {\n",
    "    public static void runWeek(boolean run) {\n",
    "        if (run) {\n",
    "            System.out.println(\"Attempting to launch temperature converter GUI...\");\n",
    "            TemperatureConverterGUI gui = new TemperatureConverterGUI();\n",
    "        } else {\n",
    "            System.out.println(\"Skipping week nine...\");\n",
    "        }\n",
    "    }\n",
    "}\n"
   ]
  },
  {
   "cell_type": "code",
   "execution_count": null,
   "id": "aef89e33",
   "metadata": {},
   "outputs": [],
   "source": [
    "/*\n",
    "    Program Name: Temperature Converter GUI\n",
    "    Programmer: Sheridan McKisick\n",
    "    Date: March 23, 2024\n",
    "    Synposis: GUI application to convert temperatures between F and C\n",
    "*/\n",
    "\n",
    "import javax.swing.*;\n",
    "import java.awt.*;\n",
    "import java.awt.event.*;\n",
    "public class TemperatureConverterGUI extends JFrame {\n",
    "    private JTextField celsiusInput;\n",
    "    private JTextField fahrenheitInput;\n",
    "    public TemperatureConverterGUI() {\n",
    "        setTitle(\"Temperature Converter\");\n",
    "        setSize(400, 350);\n",
    "        setMinimumSize(new Dimension(350, 350));\n",
    "        setLocationRelativeTo(null);\n",
    "        setDefaultCloseOperation(EXIT_ON_CLOSE);\n",
    "        \n",
    "        setLayout(new GridBagLayout());\n",
    "        GridBagConstraints gbc = new GridBagConstraints();\n",
    "        \n",
    "        int FONT_SIZE = 16;\n",
    "        Font boldFont = new Font(\"Sans-Serif\", Font.BOLD, FONT_SIZE);\n",
    "        Font largeFont = new Font(\"Sans-Serif\", Font.PLAIN, FONT_SIZE + 4);\n",
    "\n",
    "        JLabel celsiusLabel = new JLabel(\"Temperature in Celsius\");\n",
    "        celsiusLabel.setFont(boldFont);\n",
    "        \n",
    "        celsiusInput = new JTextField();\n",
    "        celsiusInput.addKeyListener(new CelsiusKeyListener());\n",
    "        celsiusInput.setFont(largeFont);\n",
    "        \n",
    "        JLabel celsiusAbbrv = new JLabel(\"°C\");\n",
    "        celsiusAbbrv.setFont(boldFont);\n",
    "        \n",
    "        JLabel fahrenheitLabel = new JLabel(\"<html><br />Temperature in Fahrenheit</html>\");\n",
    "        fahrenheitLabel.setFont(boldFont);\n",
    "        \n",
    "        JLabel fahrenheitAbbrv = new JLabel(\"°F\");\n",
    "        fahrenheitAbbrv.setFont(boldFont);\n",
    "        \n",
    "        fahrenheitInput = new JTextField();\n",
    "        fahrenheitInput.addKeyListener(new FahrenheitKeyListener());\n",
    "        fahrenheitInput.setFont(largeFont);\n",
    "        \n",
    "        JLabel numberFormatNote = new JLabel(\"Temperatures are accurate to one decimal point.\");\n",
    "        \n",
    "        JButton resetButton = new JButton(\"Clear all changes\");\n",
    "        resetButton.setFont(boldFont);\n",
    "        resetButton.addActionListener(new ResetButtonListener());\n",
    "        \n",
    "        gbc.fill = GridBagConstraints.HORIZONTAL;\n",
    "        gbc.gridx = 0;\n",
    "        gbc.gridy = 0;\n",
    "        gbc.ipady = FONT_SIZE;\n",
    "        add(celsiusLabel, gbc);\n",
    "        gbc.gridx = 0;\n",
    "        gbc.gridy = 1;\n",
    "        gbc.ipady = FONT_SIZE + 10;\n",
    "        gbc.gridwidth = 4;\n",
    "        add(celsiusInput, gbc);\n",
    "        gbc.gridwidth = 1;\n",
    "        gbc.gridx = 4;\n",
    "        gbc.gridy = 1;\n",
    "        add(celsiusAbbrv, gbc);\n",
    "        gbc.gridx = 0;\n",
    "        gbc.gridy = 2;\n",
    "        gbc.gridwidth = 5;\n",
    "        gbc.ipady = FONT_SIZE;\n",
    "        add(fahrenheitLabel, gbc);\n",
    "        gbc.gridwidth = 4;\n",
    "        gbc.gridx = 0;\n",
    "        gbc.gridy = 3;\n",
    "        gbc.ipady = FONT_SIZE + 10;\n",
    "        add(fahrenheitInput, gbc);\n",
    "        gbc.gridwidth = 1;\n",
    "        gbc.gridx = 4;\n",
    "        gbc.gridy = 3;\n",
    "        gbc.gridwidth = 1;\n",
    "        add(fahrenheitAbbrv, gbc);\n",
    "        gbc.gridx = 0;\n",
    "        gbc.gridy = 4;\n",
    "        add(numberFormatNote, gbc);\n",
    "        gbc.gridx = 0;\n",
    "        gbc.gridy = 5;\n",
    "        gbc.gridwidth = 5;\n",
    "        add(resetButton, gbc);\n",
    "        setVisible(true);\n",
    "    }\n",
    "    private class CelsiusKeyListener implements KeyListener {\n",
    "        public void keyTyped(KeyEvent e) {\n",
    "        }\n",
    "        public void keyPressed(KeyEvent e) {\n",
    "        }\n",
    "        public void keyReleased(KeyEvent e) {\n",
    "            try {\n",
    "                double celsius = Double.parseDouble(celsiusInput.getText());\n",
    "                double fahrenheit = celsiusToFahrenheit(celsius);\n",
    "                fahrenheitInput.setText(String.format(\"%.2f\", fahrenheit)); \n",
    "            } catch (NumberFormatException ex) {\n",
    "                fahrenheitInput.setText(\"\");\n",
    "            }\n",
    "        }\n",
    "    }\n",
    "    private class FahrenheitKeyListener implements KeyListener {\n",
    "        public void keyTyped(KeyEvent e) {\n",
    "        }\n",
    "        public void keyPressed(KeyEvent e) {\n",
    "        }\n",
    "        public void keyReleased(KeyEvent e) {\n",
    "            try {\n",
    "                double fahrenheit = Double.parseDouble(fahrenheitInput.getText());\n",
    "                double celsius = fahrenheitToCelsius(fahrenheit);\n",
    "                celsiusInput.setText(String.format(\"%.2f\", celsius));\n",
    "            } catch (NumberFormatException ex) {\n",
    "                celsiusInput.setText(\"\");\n",
    "            }\n",
    "        }\n",
    "    }\n",
    "    private class ResetButtonListener implements ActionListener {\n",
    "        public void actionPerformed(ActionEvent e) {\n",
    "            celsiusInput.setText(\"\");\n",
    "            fahrenheitInput.setText(\"\");\n",
    "        }\n",
    "    }\n",
    "    private double celsiusToFahrenheit(double celsius) {\n",
    "        return (celsius * 9 / 5) + 32;\n",
    "    }\n",
    "    private double fahrenheitToCelsius(double fahrenheit) {\n",
    "        return ((fahrenheit - 32) * 5 / 9);\n",
    "    }\n",
    "    public static void main(String[] args) {\n",
    "        SwingUtilities.invokeLater(() -> new TemperatureConverterGUI());\n",
    "    }\n",
    "}\n"
   ]
  },
  {
   "cell_type": "markdown",
   "id": "051ec859",
   "metadata": {},
   "source": [
    "# Place your Video Link in the Cell After this header.\n"
   ]
  },
  {
   "cell_type": "markdown",
   "id": "0e8e6c46",
   "metadata": {},
   "source": [
    "https://youtu.be/ODEfIul5YQU"
   ]
  },
  {
   "cell_type": "markdown",
   "id": "c53a180a",
   "metadata": {},
   "source": [
    "# Place your Wiki in the Cell After this header."
   ]
  },
  {
   "cell_type": "markdown",
   "id": "48a694c8",
   "metadata": {},
   "source": [
    "The first thing I noticed when I ran the temperature converter program was that I could hardly see it. The video showed that it was hard to see, but I didn't realize just how unclear it was until I ran it myself. After adjusting the size of the window with `setSize()` (and also [minimum size](https://alvinalexander.com/java/java-set-jframe-size/)), I started to consider what layout changes I would make to create a more pleasing and intuitive user interface. Instead of reinventing the wheel, I looked up some existing applications that convert temperatures between Celsius and Farenheit, picked [a favorite](https://www.omnicalculator.com/conversion/celsius-to-fahrenheit), and decided to mimic parts of it in desktop form.\n",
    "\n",
    "There were quite a few changes I knew I wanted to make to the code, so I decided I wanted to track them. I've been keeping my work for this class in a git repository, so I spun up a new branch and made commits for each change. I'll use the rest of this wiki to list the commits I made and zoom in on the more interesting ones.\n",
    "\n",
    "- initial commit\n",
    "- increase window size\n",
    "- center application\n",
    "\n",
    "(These first few commits were to get the program going and make it legible so that I could easily see what changes needed to be made.)\n",
    "\n",
    "- add additional labels/inputs\n",
    "- auto-convert input to fahrenheit\n",
    "\n",
    "Auto-converting the input to Fahrenheit removed the convert button altogether and used a key listener to see when a user entered something into the input field.\n",
    "\n",
    "- display fahrenheit conversion in fahrenheit input field\n",
    "\n",
    "The website I was mimicking converted seamlessly between Fahrenheit and Celsius, negating the need for an output field. This gets rid of that field and displays the result in the Fahrenheit input field created in the \"add additional labels/inputs\" commit. Exception handling happened in the output field originally, but the source I followed as inspiration handled invalid input by emptying the field where you would expect to see the conversion output. For example, if I entered \"T\" in the Celsius field, the Fahrenheit field went blank. I used this commit to copy that behavior as well.\n",
    "\n",
    "- auto-convert input to celsius\n",
    "\n",
    "This created another key listener for changes in the Fahrenheit input field that then output into the Celsius input field.\n",
    "\n",
    "- rename celsius labels/inputs for clarity\n",
    "- add reset button\n",
    "- change fonts\n",
    "- create five column layout\n",
    "\n",
    "I created a five column layout using GridBagLayout. It reminded me of CSS Grid, so that made it both easier and more frustrating because there were syntax differences and limitations. Five columns was a bit short of what the web application had for width of the input fields, but adding more columns felt a bit excessive so I deviated from my inspiration a bit here.\n",
    "\n",
    "- adjust fahrenheit label spacing\n",
    "- change default window size\n",
    "- change minimum window size\n",
    "- format temperature to two decimal points\n",
    "- determine grid space based on\n",
    "\n",
    "Additionally, I deviated from my source inspiration when it came to changing colors. I'm not sure if it's an issue with my environment (Mac user), but I couldn't seem to change the background color beyond the toolbar. Since I couldn't get the swing of changing the background color of the application itself, that made changing any other colors look awkward.\n"
   ]
  },
  {
   "cell_type": "markdown",
   "id": "fcf4567a",
   "metadata": {},
   "source": [
    "# Place your Questions in the Cell After this header. \n"
   ]
  },
  {
   "cell_type": "markdown",
   "id": "ff0227ad",
   "metadata": {},
   "source": [
    "**Did you watch the videos?** \n",
    "Yes. I watched the videos for both this week and last week."
   ]
  },
  {
   "cell_type": "markdown",
   "id": "49c6c80a",
   "metadata": {},
   "source": [
    "**I am not a video maker, but can you see the utility of videos?**\n",
    "Yes. It makes it easier to understand and follow the lecture notes."
   ]
  },
  {
   "cell_type": "markdown",
   "id": "c2d4b965",
   "metadata": {},
   "source": [
    "**How does this assignment relate to the \"Framers Principle\"?** We're working on fixing the broken thing (i.e. this program with a poor UI) before being allowed to move on to creating a new thing (i.e. a new GUI). If we can't fix the broken GUI, we're not going to recognize the principle issues at stake when creating a new one."
   ]
  },
  {
   "cell_type": "markdown",
   "id": "7954d49a",
   "metadata": {},
   "source": [
    "**I provided you with three resources; which one did you use the most and why?** The Tutorials Point resource. There were a lot of pages that helped with syntax and understanding the abilities of different Swing methods."
   ]
  },
  {
   "cell_type": "markdown",
   "id": "b16bc8e2",
   "metadata": {},
   "source": [
    "**If you did not use the resource I provided, what did you use and why?** (I did use the resources, but I also used several StackOverflow threads.)"
   ]
  },
  {
   "cell_type": "markdown",
   "id": "f80c19f2",
   "metadata": {},
   "source": [
    "**How would I change the background color from gray to teal blue?** You could use `setBackground` and pass in a teal color as an argument. One shade of teal has an RGB value of `0, 128, 128`, so I could pass this in by creating a new color like this\n",
    "```\n",
    "setBackground(new Color(0, 128, 128));\n",
    "```\n",
    "I could add this somewhere inside of the `TemperatureConverterGUI()` class."
   ]
  },
  {
   "cell_type": "markdown",
   "id": "8295ba4e",
   "metadata": {},
   "source": [
    "**What is a Container in Swing, and what does it do?** A container is a type of component that you can add other components to. It provides space to house other components."
   ]
  },
  {
   "cell_type": "markdown",
   "id": "5a2a4230",
   "metadata": {},
   "source": [
    "**What was the hardest part of this assignment?** I spent most of my time trying to figure out how to make a specific layout. Initially, I tried to create it using a grid layout with some additional panels, but I wound up making it with grid bag layout."
   ]
  },
  {
   "cell_type": "markdown",
   "id": "1a239199",
   "metadata": {},
   "source": [
    "**How long did it take you to produce something \"standing tall and looking good\" from the junk you were given to work with?** The assignment took me about three hours from start to finish."
   ]
  }
 ],
 "metadata": {
  "kernelspec": {
   "display_name": "Python 3 (ipykernel)",
   "language": "python",
   "name": "python3"
  },
  "language_info": {
   "codemirror_mode": {
    "name": "ipython",
    "version": 3
   },
   "file_extension": ".py",
   "mimetype": "text/x-python",
   "name": "python",
   "nbconvert_exporter": "python",
   "pygments_lexer": "ipython3",
   "version": "3.11.5"
  }
 },
 "nbformat": 4,
 "nbformat_minor": 5
}
