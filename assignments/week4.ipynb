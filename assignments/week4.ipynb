{
 "cells": [
  {
   "cell_type": "markdown",
   "id": "ed4c71fd",
   "metadata": {
    "tags": []
   },
   "source": [
    "## Student Name: Sheridan McKisick\n",
    "### Class: CIS148 Introduction to Programming with JAVA\n",
    "### Assignment: Week 4\n",
    "### Date Handed In: 2/10/24"
   ]
  },
  {
   "cell_type": "markdown",
   "id": "5d400225",
   "metadata": {},
   "source": [
    "# Place your Lab in Cells After this header.\n"
   ]
  },
  {
   "cell_type": "code",
   "execution_count": null,
   "id": "03c80ef9",
   "metadata": {},
   "outputs": [],
   "source": [
    "\n",
    "/*\n",
    "    Program Name: Driver Class\n",
    "    Programmer: Sheridan McKisick\n",
    "    Last Updated: February 8, 2024\n",
    "    Synposis: Execute classes from different assignment weeks\n",
    "*/\n",
    "\n",
    "public class Driver_Class {\n",
    "    public static void main(String[] args) {\n",
    "        System.out.println(\"Running Driver_Class...\");\n",
    "        Week01.runWeek(false);\n",
    "        Week02.runWeek(false);\n",
    "        Week03.runWeek(false);\n",
    "        Week04.runWeek(true); // Current week\n",
    "    }\n",
    "}"
   ]
  },
  {
   "cell_type": "code",
   "execution_count": null,
   "id": "84b5ab60",
   "metadata": {},
   "outputs": [],
   "source": [
    "/*\n",
    "    Program Name: Week03\n",
    "    Programmer: Sheridan McKisick\n",
    "    Date: February 3, 2024\n",
    "    Synposis: Week four's assignment\n",
    "*/\n",
    "\n",
    "public class Week04 {    \n",
    "    public static void runWeek(boolean run) {\n",
    "        if (run) {\n",
    "            Week_4_Literals literals = new Week_4_Literals();\n",
    "            Week_4_Processes.printInfo(literals.speech);\n",
    "        } else {\n",
    "            System.out.println(\"Skipping week three...\");\n",
    "        }\n",
    "    }\n",
    "}\n"
   ]
  },
  {
   "cell_type": "code",
   "execution_count": null,
   "id": "a649d059",
   "metadata": {},
   "outputs": [],
   "source": [
    "/*\n",
    "    Program Name: Week 4 Literals\n",
    "    Programmer: Sheridan McKisick\n",
    "    Date: February 3, 2024\n",
    "    Synposis: Module with the Gettysburg Address\n",
    "*/\n",
    "public class Week_4_Literals {\n",
    "    String speech = \"Four score and seven years ago our fathers brought forth, on this continent, a new nation, conceived in Liberty, and dedicated to the proposition that all men are created equal.\" +\n",
    "\"\\n\" +\n",
    "\"Now we are engaged in a great civil war, testing whether that nation, or any nation so conceived and so dedicated, can long endure. We are met on a great battle-field of that war. We have come to dedicate a portion of that field, as a final resting place for those who here gave their lives that that nation might live. It is altogether fitting and proper that we should do this.\\n\" +\n",
    "\"\\n\" +\n",
    "\"But, in a larger sense, we can not dedicate—we can not consecrate—we can not hallow—this ground. The brave men, living and dead, who struggled here, have consecrated it, far above our poor power to add or detract. The world will little note, nor long remember what we say here, but it can never forget what they did here. It is for us the living, rather, to be dedicated here to the unfinished work which they who fought here have thus far so nobly advanced. It is rather for us to be here dedicated to the great task remaining before us—that from these honored dead we take increased devotion to that cause for which they gave the last full measure of devotion—that we here highly resolve that these dead shall not have died in vain—that this nation, under God, shall have a new birth of freedom—and that government of the people, by the people, for the people, shall not perish from the earth.\";\n",
    "}\n"
   ]
  },
  {
   "cell_type": "code",
   "execution_count": null,
   "id": "69e0f9fa",
   "metadata": {},
   "outputs": [],
   "source": [
    "/*\n",
    "    Program Name: Week 4 Processes\n",
    "    Programmer: Sheridan McKisick\n",
    "    Date: February 8, 2024\n",
    "    Synposis: Assorted methods for handling the string from this week.\n",
    "*/\n",
    "\n",
    "public class Week_4_Processes {\n",
    "    public static int countVowels(String text) {\n",
    "        char[] vowels = {'a', 'e', 'i', 'o', 'u'};\n",
    "        // Convert text to lowercase so vowels match vowels[] characters\n",
    "        String lowerCaseText = text.toLowerCase();\n",
    "        int vowelCount = 0;\n",
    "        for (int i = 0; i < lowerCaseText.length(); i++) {\n",
    "              for (char vowel: vowels) {\n",
    "                  if (lowerCaseText.charAt(i) == vowel) {\n",
    "                      // Increase count if the character is a vowel\n",
    "                      vowelCount += 1;\n",
    "                      // Then, stop traversing the vowels array\n",
    "                      break;\n",
    "                  }\n",
    "              }\n",
    "        }\n",
    "        return vowelCount;\n",
    "    }\n",
    "    \n",
    "    public static int countWords(String text) {\n",
    "        String trimmedText = text.trim();\n",
    "        String[] wordArray = trimmedText.split(\"\\\\s+\");\n",
    "        int wordCount = wordArray.length;\n",
    "        return wordCount;\n",
    "    }\n",
    "    \n",
    "    public static String[] getMiddleTenWordsArray(String text) {\n",
    "        // Trim and split text to remove all whitespace\n",
    "        String[] wordArray = text.trim().split(\"\\\\s+\");\n",
    "        int wordCount = wordArray.length;\n",
    "        // The location of the middle word\n",
    "        int midPoint = wordCount / 2;\n",
    "        int startPoint = midPoint - 5;\n",
    "        int endPoint = midPoint + 5;\n",
    "        // Placeholder for ten words\n",
    "        String[] middleWordsArray = new String[10];\n",
    "        for (int i = startPoint; i < endPoint; i++) {\n",
    "            // i - startPoint will equal a value between 0 and 9\n",
    "            middleWordsArray[i - startPoint] = wordArray[i];\n",
    "        }\n",
    "        return middleWordsArray;\n",
    "    }\n",
    "    \n",
    "    public static void printInfo(String text) {\n",
    "        System.out.println(\"Number of vowels: \" + countVowels(text));\n",
    "        System.out.println(\"Number of words: \" + countWords(text));\n",
    "        System.out.print(\"Middle ten words: \" + \"\\\" \");\n",
    "        for (String word: getMiddleTenWordsArray(text)) {\n",
    "            System.out.print(word + \" \");\n",
    "        }\n",
    "        System.out.println(\"\\\"\");\n",
    "    }\n",
    "}\n",
    "\n"
   ]
  },
  {
   "cell_type": "markdown",
   "id": "051ec859",
   "metadata": {},
   "source": [
    "# Place your Video Link in the Cell After this header.\n"
   ]
  },
  {
   "cell_type": "markdown",
   "id": "0e8e6c46",
   "metadata": {},
   "source": [
    "https://youtu.be/4__W1dnrrvY"
   ]
  },
  {
   "cell_type": "markdown",
   "id": "c53a180a",
   "metadata": {},
   "source": [
    "# Place your Wiki in the Cell After this header."
   ]
  },
  {
   "cell_type": "markdown",
   "id": "48a694c8",
   "metadata": {},
   "source": [
    "I wanted to play around with string equality a bit, so I created two string variables and initialized them both with a value of `\"Test\"`. Comparing them using the `.equals()` method or the `==` operator both return a value of `true`. However, when I used the `.concat()` method to add additional text (`\" String\"`) at the end of both strings, only the `.equals()` method works. I then built the same `\"Test\"` string using the `StringBuilder` type. Neither the `.equals()` method nor the `==` operator returned a result of `true` this time. When I used the `.toString()` method to convert both test strings before comparing them, only the `.equals()` method worked again. Playing around with this reinforced that the `.equals()` method is actually looking at the characters that make up the string while the `==` operator is just looking at the reference.\n",
    "\n",
    "Outside of my endeavors with string equality, I got really invested in the method I created for counting vowels. Early on, I decided to put my vowels into an array. (The reading doesn't do this, but I thought it might make for a fun diversion.) I wanted to ask each character in the string I was checking for vowels if it matched one of the vowels in the arrays. I knew I could do this by nesting a for loop inside of a for loop, but I knew that would have less than optimal complexity, so I wasn't too keen on that option. In JavaScript, I would have chosen to implement this with an array method that checks to see if a particular value matches the value of an element in the array. It would look something like this:\n",
    "\n",
    "```\n",
    "  for (let i = 0; i < text.length; i++) {\n",
    "    if (vowels.includes(text[i])) {\n",
    "      vowelCount += 1;\n",
    "    }\n",
    "  }\n",
    "```\n",
    "\n",
    "I assumed there would be a direct equivalent in Java, but I think I was wrong. I searched for a way to check if an array includes an element and came up with some StackOverflow results. Two suggestions popped out to me: a binary search method and an as list method. The binary list method could only detect vowels when they were sorted (in the string), and I didn't necessarily want to walk down that road. I couldn't seem to get the `.asList()` method to function as I wanted it to either, and comments on StackOverflow indicated that it didn't work with primitives--the data type I was using.\n",
    "\n",
    "To supplement my StackOverflow queries, I also asked ChatGPT to rewrite the JavaScript function above into a Java class. ChatGPT also chose to create a for each loop to implement this functionality, though it did choose to create a separate method solely to determine if a character matched a vowel, which I thought was interesting."
   ]
  },
  {
   "cell_type": "markdown",
   "id": "fcf4567a",
   "metadata": {},
   "source": [
    "# Place your Questions in the Cell After this header. \n"
   ]
  }
 ],
 "metadata": {
  "kernelspec": {
   "display_name": "Python 3.8.5 64-bit",
   "language": "python",
   "name": "python3"
  },
  "language_info": {
   "codemirror_mode": {
    "name": "ipython",
    "version": 3
   },
   "file_extension": ".py",
   "mimetype": "text/x-python",
   "name": "python",
   "nbconvert_exporter": "python",
   "pygments_lexer": "ipython3",
   "version": "3.8.5"
  },
  "vscode": {
   "interpreter": {
    "hash": "aee8b7b246df8f9039afb4144a1f6fd8d2ca17a180786b69acc140d282b71a49"
   }
  }
 },
 "nbformat": 4,
 "nbformat_minor": 5
}
