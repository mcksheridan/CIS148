{
 "cells": [
  {
   "cell_type": "markdown",
   "id": "ed4c71fd",
   "metadata": {
    "tags": []
   },
   "source": [
    "## Student Name: Sheridan McKisick\n",
    "### Class: CIS148 Introduction to Programming with JAVA\n",
    "### Assignment: \n",
    "### Date Handed In: "
   ]
  },
  {
   "cell_type": "markdown",
   "id": "5d400225",
   "metadata": {},
   "source": [
    "# Place your Lab in Cells After this header.\n"
   ]
  },
  {
   "cell_type": "code",
   "execution_count": null,
   "id": "03c80ef9",
   "metadata": {},
   "outputs": [],
   "source": []
  },
  {
   "cell_type": "code",
   "execution_count": null,
   "id": "a649d059",
   "metadata": {},
   "outputs": [],
   "source": []
  },
  {
   "cell_type": "markdown",
   "id": "051ec859",
   "metadata": {},
   "source": [
    "# Place your Video Link in the Cell After this header.\n"
   ]
  },
  {
   "cell_type": "markdown",
   "id": "0e8e6c46",
   "metadata": {},
   "source": []
  },
  {
   "cell_type": "markdown",
   "id": "c53a180a",
   "metadata": {},
   "source": [
    "# Place your Wiki in the Cell After this header."
   ]
  },
  {
   "cell_type": "markdown",
   "id": "48a694c8",
   "metadata": {},
   "source": []
  },
  {
   "cell_type": "markdown",
   "id": "fcf4567a",
   "metadata": {},
   "source": [
    "# Place your Questions in the Cell After this header. \n"
   ]
  },
  {
   "cell_type": "markdown",
   "id": "7954d49a",
   "metadata": {},
   "source": [
    "**Question:** Answer"
   ]
  },
  {
   "cell_type": "markdown",
   "id": "b16bc8e2",
   "metadata": {},
   "source": []
  },
  {
   "cell_type": "markdown",
   "id": "f80c19f2",
   "metadata": {},
   "source": []
  },
  {
   "cell_type": "markdown",
   "id": "8295ba4e",
   "metadata": {},
   "source": []
  },
  {
   "cell_type": "markdown",
   "id": "5a2a4230",
   "metadata": {},
   "source": []
  }
 ],
 "metadata": {
  "kernelspec": {
   "display_name": "Python 3 (ipykernel)",
   "language": "python",
   "name": "python3"
  },
  "language_info": {
   "codemirror_mode": {
    "name": "ipython",
    "version": 3
   },
   "file_extension": ".py",
   "mimetype": "text/x-python",
   "name": "python",
   "nbconvert_exporter": "python",
   "pygments_lexer": "ipython3",
   "version": "3.11.5"
  }
 },
 "nbformat": 4,
 "nbformat_minor": 5
}
